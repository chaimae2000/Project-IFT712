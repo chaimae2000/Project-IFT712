{
 "cells": [
  {
   "cell_type": "code",
   "execution_count": 9,
   "metadata": {},
   "outputs": [],
   "source": [
    "# import libs\n",
    "from src.handleData import handleData\n",
    "from src.handleClassifier import handleClassifier\n",
    "import warnings"
   ]
  },
  {
   "cell_type": "code",
   "execution_count": 10,
   "metadata": {},
   "outputs": [],
   "source": [
    "warnings.filterwarnings(\"ignore\")\n",
    "\n",
    "hD = handleData(\"./data/data.csv\")\n",
    "df = hD.loadData(\"id\")\n",
    "labels = hD.encodeLabels(df, \"species\")\n",
    "\n",
    "dfTrain, dfTest = hD.splitData(df, 0.7, \"species\")"
   ]
  },
  {
   "cell_type": "code",
   "execution_count": 11,
   "metadata": {},
   "outputs": [
    {
     "name": "stdout",
     "output_type": "stream",
     "text": [
      "LinearDiscriminantAnalysis, CV score = 0.9566781357522677\n",
      "QuadraticDiscriminantAnalysis, CV score = 0.025940986341361695\n"
     ]
    }
   ],
   "source": [
    "classifierList = [\n",
    "    {\n",
    "        \"name\": \"LinearDiscriminantAnalysis\",\n",
    "        \"fitStrategy\": {\"option\": 1, \"config\": {\"scoring\": \"accuracy\"}},\n",
    "    },\n",
    "    {\n",
    "        \"name\": \"QuadraticDiscriminantAnalysis\",\n",
    "        \"fitStrategy\": {\"option\": 1, \"config\": {\"scoring\": \"accuracy\"}},\n",
    "    },\n",
    "]\n",
    "\n",
    "hC = handleClassifier(classifierList)\n",
    "hC.fitClassifiers(dfTrain)"
   ]
  },
  {
   "cell_type": "code",
   "execution_count": 4,
   "metadata": {},
   "outputs": [],
   "source": [
    "listClassifiers = hC.getClassifiers()"
   ]
  },
  {
   "cell_type": "code",
   "execution_count": null,
   "metadata": {},
   "outputs": [],
   "source": []
  }
 ],
 "metadata": {
  "kernelspec": {
   "display_name": "base",
   "language": "python",
   "name": "python3"
  },
  "language_info": {
   "codemirror_mode": {
    "name": "ipython",
    "version": 3
   },
   "file_extension": ".py",
   "mimetype": "text/x-python",
   "name": "python",
   "nbconvert_exporter": "python",
   "pygments_lexer": "ipython3",
   "version": "3.9.5"
  },
  "orig_nbformat": 4,
  "vscode": {
   "interpreter": {
    "hash": "4ebca03ed28d4bdb2b83b823b912e255b5d9478816b5a777f9c36aa9107629df"
   }
  }
 },
 "nbformat": 4,
 "nbformat_minor": 2
}
