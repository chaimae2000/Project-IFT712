{
 "cells": [
  {
   "attachments": {},
   "cell_type": "markdown",
   "metadata": {},
   "source": [
    "# Import libs"
   ]
  },
  {
   "cell_type": "code",
   "execution_count": 2,
   "metadata": {},
   "outputs": [],
   "source": [
    "# sklearn libs\n",
    "from sklearn.tree import DecisionTreeClassifier\n",
    "from sklearn.linear_model import Lasso\n",
    "\n",
    "# implemented structure\n",
    "from src.handleData import handleData\n",
    "from src.handleClassifier import handleClassifier"
   ]
  },
  {
   "attachments": {},
   "cell_type": "markdown",
   "metadata": {},
   "source": [
    "# Load data"
   ]
  },
  {
   "cell_type": "code",
   "execution_count": 3,
   "metadata": {},
   "outputs": [],
   "source": [
    "hD = handleData(\"./data/data.csv\")  # construct handleData object\n",
    "df = hD.loadData(\"id\")  # load the data\n",
    "labels = hD.encodeLabels(df, \"species\")  # get labels\n",
    "dfTrain, dfTest = hD.splitData(df, 0.7, \"species\")  # get the training and testing sets"
   ]
  },
  {
   "attachments": {},
   "cell_type": "markdown",
   "metadata": {},
   "source": [
    "# Without any feature trimming"
   ]
  },
  {
   "cell_type": "code",
   "execution_count": 4,
   "metadata": {},
   "outputs": [
    {
     "name": "stdout",
     "output_type": "stream",
     "text": [
      "AdaBoostClassifier, GridSearchCV best score = 0.8888854134084037\n",
      "BaggingClassifier, GridSearchCV best score = 0.864320717339172\n",
      "DecisionTreeClassifier, GridSearchCV best score = 0.17901157335001563\n",
      "LinearDiscriminantAnalysis, CV score = 0.9610363882806798\n",
      "QuadraticDiscriminantAnalysis, CV score = 0.02452299030340945\n",
      "RandomForestClassifier, GridSearchCV best score = 0.7214888958398499\n"
     ]
    }
   ],
   "source": [
    "# The selected classifiers and their config\n",
    "classifierList = [\n",
    "    {\n",
    "        \"name\": \"LinearDiscriminantAnalysis\",\n",
    "        \"preprocess\": False,\n",
    "        \"fitStrategy\": {\n",
    "            \"option\": \"CV\",\n",
    "            \"config\": {\"n_jobs\": -1, \"scoring\": \"accuracy\"},\n",
    "        },\n",
    "    },\n",
    "    {\n",
    "        \"name\": \"QuadraticDiscriminantAnalysis\",\n",
    "        \"preprocess\": False,\n",
    "        \"fitStrategy\": {\n",
    "            \"option\": \"CV\",\n",
    "            \"config\": {\"n_jobs\": -1, \"scoring\": \"accuracy\"},\n",
    "        },\n",
    "    },\n",
    "    {\n",
    "        \"name\": \"DecisionTreeClassifier\",\n",
    "        \"preprocess\": False,\n",
    "        \"fitStrategy\": {\n",
    "            \"option\": \"GridSearch\",\n",
    "            \"config\": {\n",
    "                \"param_grid\": {\n",
    "                    \"clf__min_samples_leaf\": list(range(1, 6)),\n",
    "                    \"clf__min_samples_split\": list(range(2, 12, 2)),\n",
    "                    \"clf__max_depth\": list(range(1, 11)),\n",
    "                },\n",
    "                \"n_jobs\": -1,\n",
    "                \"scoring\": \"accuracy\",\n",
    "            },\n",
    "        },\n",
    "    },\n",
    "    {\n",
    "        \"name\": \"RandomForestClassifier\",\n",
    "        \"preprocess\": False,\n",
    "        \"fitStrategy\": {\n",
    "            \"option\": \"GridSearch\",\n",
    "            \"config\": {\n",
    "                \"param_grid\": {\n",
    "                    \"clf__min_samples_leaf\": list(range(1, 6)),\n",
    "                    \"clf__min_samples_split\": list(range(2, 12, 2)),\n",
    "                    \"clf__n_estimators\": [50, 75, 100],\n",
    "                    \"clf__max_depth\": list(range(1, 6)),\n",
    "                },\n",
    "                \"n_jobs\": -1,\n",
    "                \"scoring\": \"accuracy\",\n",
    "            },\n",
    "        },\n",
    "    },\n",
    "    {\n",
    "        \"name\": \"AdaBoostClassifier\",\n",
    "        \"preprocess\": False,\n",
    "        \"config\": {\"base_estimator\": DecisionTreeClassifier()},\n",
    "        \"fitStrategy\": {\n",
    "            \"option\": \"GridSearch\",\n",
    "            \"config\": {\n",
    "                \"param_grid\": {\n",
    "                    \"clf__base_estimator__max_depth\": [1, 5, 10],\n",
    "                    \"clf__n_estimators\": [50, 75, 100],\n",
    "                    \"clf__learning_rate\": [0.01, 0.1, 1.0],\n",
    "                },\n",
    "                \"n_jobs\": -1,\n",
    "                \"scoring\": \"accuracy\",\n",
    "            },\n",
    "        },\n",
    "    },\n",
    "    {\n",
    "        \"name\": \"BaggingClassifier\",\n",
    "        \"preprocess\": False,\n",
    "        \"config\": {\"base_estimator\": DecisionTreeClassifier()},\n",
    "        \"fitStrategy\": {\n",
    "            \"option\": \"GridSearch\",\n",
    "            \"config\": {\n",
    "                \"param_grid\": {\n",
    "                    \"clf__base_estimator__max_depth\": [1, 5, 10],\n",
    "                    \"clf__n_estimators\": [50, 75, 100],\n",
    "                    \"clf__max_samples\": [0.25, 0.5, 0.75, 1.0],\n",
    "                    \"clf__max_features\": [0.25, 0.5, 0.75, 1.0],\n",
    "                },\n",
    "                \"n_jobs\": -1,\n",
    "                \"scoring\": \"accuracy\",\n",
    "            },\n",
    "        },\n",
    "    },\n",
    "]\n",
    "\n",
    "hC = handleClassifier()  # construct handleClassifier object\n",
    "clf = hC.fitClassifiers(dfTrain, classifierList)  # fit"
   ]
  },
  {
   "attachments": {},
   "cell_type": "markdown",
   "metadata": {},
   "source": [
    "# With feature reduction (PCA)"
   ]
  },
  {
   "cell_type": "code",
   "execution_count": 5,
   "metadata": {},
   "outputs": [
    {
     "name": "stdout",
     "output_type": "stream",
     "text": [
      "AdaBoostClassifier, GridSearchCV best score = 0.8932436659368157\n",
      "BaggingClassifier, GridSearchCV best score = 0.9335731414868105\n",
      "DecisionTreeClassifier, GridSearchCV best score = 0.4561046814722135\n",
      "LinearDiscriminantAnalysis, GridSearchCV best score = 0.9696799082473152\n",
      "QuadraticDiscriminantAnalysis, GridSearchCV best score = 0.23372953810864355\n",
      "RandomForestClassifier, GridSearchCV best score = 0.7431237618600772\n"
     ]
    }
   ],
   "source": [
    "# change the config for a feature reduction\n",
    "for classifierDict in classifierList:\n",
    "    classifierDict[\"preprocess\"] = True\n",
    "    classifierDict[\"feature\"] = {\"option\": \"reduction\"}\n",
    "    classifierDict[\"fitStrategy\"][\"option\"] = \"GridSearch\"\n",
    "\n",
    "    if not \"param_grid\" in classifierDict[\"fitStrategy\"][\"config\"]:\n",
    "        classifierDict[\"fitStrategy\"][\"config\"][\"param_grid\"] = dict()\n",
    "\n",
    "    classifierDict[\"fitStrategy\"][\"config\"][\"param_grid\"][\"ftr__n_components\"] = [\n",
    "        0.5,\n",
    "        0.75,\n",
    "        0.85,\n",
    "    ]\n",
    "\n",
    "clfReduction = hC.fitClassifiers(dfTrain, classifierList)  # fit"
   ]
  },
  {
   "attachments": {},
   "cell_type": "markdown",
   "metadata": {},
   "source": [
    "# With feature selection (Lasso)"
   ]
  },
  {
   "cell_type": "code",
   "execution_count": 6,
   "metadata": {},
   "outputs": [
    {
     "name": "stdout",
     "output_type": "stream",
     "text": [
      "AdaBoostClassifier, GridSearchCV best score = 0.8384005838807216\n",
      "BaggingClassifier, GridSearchCV best score = 0.89617349598582\n",
      "DecisionTreeClassifier, GridSearchCV best score = 0.23806693775414453\n",
      "LinearDiscriminantAnalysis, GridSearchCV best score = 0.9004379105411322\n",
      "QuadraticDiscriminantAnalysis, GridSearchCV best score = 0.030288812428318213\n",
      "RandomForestClassifier, GridSearchCV best score = 0.7257845897195286\n"
     ]
    }
   ],
   "source": [
    "# change the config for a feature selection\n",
    "for classifierDict in classifierList:\n",
    "    classifierDict[\"feature\"][\"option\"] = \"selection\"\n",
    "    classifierDict[\"feature\"][\"config\"] = {\"estimator\": Lasso()}\n",
    "    del classifierDict[\"fitStrategy\"][\"config\"][\"param_grid\"][\"ftr__n_components\"]\n",
    "    classifierDict[\"fitStrategy\"][\"config\"][\"param_grid\"][\"ftr__estimator__alpha\"] = [\n",
    "        1.0,\n",
    "        2.5,\n",
    "        5.0,\n",
    "    ]\n",
    "\n",
    "clfSelection = hC.fitClassifiers(dfTrain, classifierList)  # fit"
   ]
  },
  {
   "cell_type": "code",
   "execution_count": null,
   "metadata": {},
   "outputs": [],
   "source": []
  }
 ],
 "metadata": {
  "kernelspec": {
   "display_name": "base",
   "language": "python",
   "name": "python3"
  },
  "language_info": {
   "codemirror_mode": {
    "name": "ipython",
    "version": 3
   },
   "file_extension": ".py",
   "mimetype": "text/x-python",
   "name": "python",
   "nbconvert_exporter": "python",
   "pygments_lexer": "ipython3",
   "version": "3.9.12"
  },
  "orig_nbformat": 4,
  "vscode": {
   "interpreter": {
    "hash": "cef0de2d76d729c8feaa7555ecd113c2474cd7dbc7a1bd0f146b27852a2e499f"
   }
  }
 },
 "nbformat": 4,
 "nbformat_minor": 2
}
