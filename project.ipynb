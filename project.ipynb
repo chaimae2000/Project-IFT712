{
 "cells": [
  {
   "cell_type": "code",
   "execution_count": 64,
   "metadata": {},
   "outputs": [],
   "source": [
    "# import libs\n",
    "from src.handleData import handleData\n",
    "from src.handleClassifier import handleClassifier"
   ]
  },
  {
   "cell_type": "code",
   "execution_count": 65,
   "metadata": {},
   "outputs": [],
   "source": [
    "hD = handleData(\"./data/data.csv\")\n",
    "df = hD.loadData(\"id\")\n",
    "labels = hD.encodeLabels(df, \"species\")\n",
    "\n",
    "dfTrain, dfTest = hD.splitData(df, 0.7, \"species\")"
   ]
  },
  {
   "cell_type": "code",
   "execution_count": 66,
   "metadata": {},
   "outputs": [
    {
     "name": "stdout",
     "output_type": "stream",
     "text": [
      "LinearDiscriminantAnalysis, CV score = 0.9538629965592744\n"
     ]
    }
   ],
   "source": [
    "L = [\n",
    "    {\n",
    "        \"name\": \"LinearDiscriminantAnalysis\",\n",
    "        \"fitStrategy\": {\"option\": 1, \"config\": {\"scoring\": \"accuracy\"}},\n",
    "    }\n",
    "]\n",
    "\n",
    "hC = handleClassifier(L)\n",
    "hC.fitClassifiers(dfTrain)"
   ]
  },
  {
   "cell_type": "code",
   "execution_count": 67,
   "metadata": {},
   "outputs": [
    {
     "name": "stdout",
     "output_type": "stream",
     "text": [
      "[[ -95.86520858 -136.85246788 -280.685875   ...  -52.2592869\n",
      "   500.33517632  151.39776847]\n",
      " [-132.78941108  -39.2320942  -683.70729486 ... -220.43162693\n",
      "  -123.56750111  129.00677744]\n",
      " [ 279.05768503 -293.64647652  217.84530895 ...   25.27989856\n",
      "  -177.71202017 -115.4955488 ]\n",
      " ...\n",
      " [ 132.33104697  148.80631652   63.44679762 ...   74.98858826\n",
      "   173.1595774   113.90657262]\n",
      " [ 348.75644895  135.40209116 -120.30852061 ...  118.65751623\n",
      "  -418.78995724 -235.08294006]\n",
      " [ 160.06708768   52.5684107  -359.43316166 ...  -70.96799137\n",
      "   -98.62013491 -181.98523999]]\n"
     ]
    }
   ],
   "source": [
    "listClassifiers = hC.getClassifiers()\n",
    "print(listClassifiers[0].coef_)"
   ]
  },
  {
   "cell_type": "code",
   "execution_count": null,
   "metadata": {},
   "outputs": [],
   "source": []
  }
 ],
 "metadata": {
  "kernelspec": {
   "display_name": "base",
   "language": "python",
   "name": "python3"
  },
  "language_info": {
   "codemirror_mode": {
    "name": "ipython",
    "version": 3
   },
   "file_extension": ".py",
   "mimetype": "text/x-python",
   "name": "python",
   "nbconvert_exporter": "python",
   "pygments_lexer": "ipython3",
   "version": "3.9.5"
  },
  "orig_nbformat": 4,
  "vscode": {
   "interpreter": {
    "hash": "4ebca03ed28d4bdb2b83b823b912e255b5d9478816b5a777f9c36aa9107629df"
   }
  }
 },
 "nbformat": 4,
 "nbformat_minor": 2
}
