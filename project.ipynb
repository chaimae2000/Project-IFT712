{
 "cells": [
  {
   "cell_type": "markdown",
   "metadata": {},
   "source": [
    "# Import des données"
   ]
  },
  {
   "cell_type": "code",
   "execution_count": 1,
   "metadata": {},
   "outputs": [],
   "source": [
    "# import libs\n",
    "from sklearn.model_selection import train_test_split\n",
    "from sklearn.model_selection import StratifiedKFold\n",
    "from sklearn import discriminant_analysis\n",
    "from sklearn.preprocessing import LabelEncoder\n",
    "from pingouin import multivariate_normality\n",
    "from sklearn.metrics import accuracy_score\n",
    "from matplotlib import pyplot as plt\n",
    "import pandas as pd\n",
    "import numpy as np"
   ]
  },
  {
   "cell_type": "code",
   "execution_count": 2,
   "metadata": {},
   "outputs": [
    {
     "name": "stdout",
     "output_type": "stream",
     "text": [
      "Henze-Zirkler multivariate normality test : False\n"
     ]
    }
   ],
   "source": [
    "# loading the data from the CSV file\n",
    "df = pd.read_csv(\"./data/data.csv\")\n",
    "\n",
    "# drop id column\n",
    "df.drop(df.columns[[0]], axis=1, inplace=True)\n",
    "\n",
    "# change classes names into integer\n",
    "species = df[\"species\"].to_numpy()\n",
    "le = LabelEncoder().fit(df[\"species\"])\n",
    "df[\"species\"] = le.transform(df[\"species\"])\n",
    "\n",
    "# get training/test data from df\n",
    "dfTrain, dfTest = train_test_split(\n",
    "    df, train_size=0.7, stratify=df[\"species\"], random_state=1, shuffle=True\n",
    ")\n",
    "\n",
    "# convert to numpy\n",
    "XTrain = dfTrain[dfTrain.columns[1:]].to_numpy()\n",
    "YTrain = dfTrain[dfTrain.columns[0]].to_numpy()\n",
    "XTest = dfTest[dfTest.columns[1:]].to_numpy()\n",
    "YTest = dfTest[dfTest.columns[0]].to_numpy()\n",
    "\n",
    "# Check if the train data follows a multivariate normal distribution\n",
    "HZTest = multivariate_normality(XTrain)\n",
    "print(\"Henze-Zirkler multivariate normality test : {}\".format(HZTest.normal))"
   ]
  },
  {
   "cell_type": "code",
   "execution_count": 3,
   "metadata": {},
   "outputs": [
    {
     "name": "stdout",
     "output_type": "stream",
     "text": [
      "Average accuracy:  0.950954019393181\n"
     ]
    }
   ],
   "source": [
    "skf = StratifiedKFold(shuffle=True, random_state=1)\n",
    "accScore = list()\n",
    "\n",
    "LDA = discriminant_analysis.LinearDiscriminantAnalysis()\n",
    "\n",
    "for trainIdx, testIdx in skf.split(XTrain, YTrain):\n",
    "    XTrainCV, XTestCV = XTrain[trainIdx], XTrain[testIdx]\n",
    "    YTrainCV, YTestCV = YTrain[trainIdx], YTrain[testIdx]\n",
    "\n",
    "    LDA.fit(XTrainCV, YTrainCV)\n",
    "    predValues = LDA.predict(XTestCV)\n",
    "\n",
    "    acc = accuracy_score(predValues, YTestCV)\n",
    "    accScore.append(acc)\n",
    "\n",
    "print(\"Average accuracy: \", np.mean(accScore))"
   ]
  },
  {
   "cell_type": "code",
   "execution_count": 5,
   "metadata": {},
   "outputs": [
    {
     "name": "stderr",
     "output_type": "stream",
     "text": [
      "c:\\Users\\AMAIRI\\miniconda3\\lib\\site-packages\\sklearn\\discriminant_analysis.py:887: UserWarning: Variables are collinear\n",
      "  warnings.warn(\"Variables are collinear\")\n"
     ]
    },
    {
     "data": {
      "text/plain": [
       "0.037037037037037035"
      ]
     },
     "execution_count": 5,
     "metadata": {},
     "output_type": "execute_result"
    }
   ],
   "source": [
    "QDA = discriminant_analysis.QuadraticDiscriminantAnalysis()\n",
    "\n",
    "QDA.fit(XTrain, YTrain)\n",
    "predValues = QDA.predict(XTest)\n",
    "\n",
    "accuracy_score(predValues, YTest)"
   ]
  },
  {
   "cell_type": "code",
   "execution_count": null,
   "metadata": {},
   "outputs": [],
   "source": []
  }
 ],
 "metadata": {
  "kernelspec": {
   "display_name": "base",
   "language": "python",
   "name": "python3"
  },
  "language_info": {
   "codemirror_mode": {
    "name": "ipython",
    "version": 3
   },
   "file_extension": ".py",
   "mimetype": "text/x-python",
   "name": "python",
   "nbconvert_exporter": "python",
   "pygments_lexer": "ipython3",
   "version": "3.9.5 (default, May 18 2021, 14:42:02) [MSC v.1916 64 bit (AMD64)]"
  },
  "orig_nbformat": 4,
  "vscode": {
   "interpreter": {
    "hash": "4ebca03ed28d4bdb2b83b823b912e255b5d9478816b5a777f9c36aa9107629df"
   }
  }
 },
 "nbformat": 4,
 "nbformat_minor": 2
}
