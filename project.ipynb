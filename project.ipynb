{
 "cells": [
  {
   "cell_type": "code",
   "execution_count": 4,
   "metadata": {},
   "outputs": [],
   "source": [
    "# import libs\n",
    "from src.handleData import handleData\n",
    "from src.handleClassifier import handleClassifier"
   ]
  },
  {
   "cell_type": "code",
   "execution_count": 5,
   "metadata": {},
   "outputs": [],
   "source": [
    "hD = handleData(\"./data/data.csv\")\n",
    "df = hD.loadData(\"id\")\n",
    "labels = hD.encodeLabels(df, \"species\")\n",
    "dfTrain, dfTest = hD.splitData(df, 0.7, \"species\")"
   ]
  },
  {
   "cell_type": "code",
   "execution_count": 6,
   "metadata": {},
   "outputs": [
    {
     "name": "stdout",
     "output_type": "stream",
     "text": [
      "LinearDiscriminantAnalysis, CV score = 0.9567302679595453\n",
      "QuadraticDiscriminantAnalysis, CV score = 0.028849963507454907\n"
     ]
    }
   ],
   "source": [
    "classifierList = [\n",
    "    {\n",
    "        \"name\": \"LinearDiscriminantAnalysis\",\n",
    "        \"fitStrategy\": {\"option\": 1, \"config\": {\"scoring\": \"accuracy\"}},\n",
    "    },\n",
    "    {\n",
    "        \"name\": \"QuadraticDiscriminantAnalysis\",\n",
    "        \"fitStrategy\": {\"option\": 1, \"config\": {\"scoring\": \"accuracy\"}},\n",
    "    },\n",
    "    ## example purpose only for GridSearchCV\n",
    "    # {\n",
    "    #     \"name\": \"RandomForestClassifier\",\n",
    "    #     \"featureSelection\" : {\"option\" : 1, \"config\" : {\"n_components\" : 0.7}},\n",
    "    #     \"fitStrategy\": {\"option\": 2, \"config\": {\"param_grid\" : {'min_samples_leaf':list(range(1,5)),\n",
    "    #                                             'min_samples_split':list(range(2,10,2)),\n",
    "    #                                             'n_estimators':list(range(10,50,10)),\n",
    "    #                                             'max_depth':list(range(1,5))},\n",
    "    #                                             \"n_jobs\" : -1, \"scoring\": \"accuracy\"}},\n",
    "    # }\n",
    "]\n",
    "\n",
    "hC = handleClassifier()\n",
    "clf = hC.fitClassifiers(dfTrain, classifierList)"
   ]
  },
  {
   "cell_type": "code",
   "execution_count": null,
   "metadata": {},
   "outputs": [],
   "source": []
  }
 ],
 "metadata": {
  "kernelspec": {
   "display_name": "base",
   "language": "python",
   "name": "python3"
  },
  "language_info": {
   "codemirror_mode": {
    "name": "ipython",
    "version": 3
   },
   "file_extension": ".py",
   "mimetype": "text/x-python",
   "name": "python",
   "nbconvert_exporter": "python",
   "pygments_lexer": "ipython3",
   "version": "3.9.12"
  },
  "orig_nbformat": 4,
  "vscode": {
   "interpreter": {
    "hash": "cef0de2d76d729c8feaa7555ecd113c2474cd7dbc7a1bd0f146b27852a2e499f"
   }
  }
 },
 "nbformat": 4,
 "nbformat_minor": 2
}
