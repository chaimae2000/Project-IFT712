{
 "cells": [
  {
   "cell_type": "markdown",
   "metadata": {},
   "source": [
    "# Import des données"
   ]
  },
  {
   "cell_type": "code",
   "execution_count": 4,
   "metadata": {},
   "outputs": [],
   "source": [
    "# import libs\n",
    "from sklearn import discriminant_analysis as da\n",
    "from pingouin import multivariate_normality\n",
    "from matplotlib import pyplot as plt\n",
    "import pandas as pd\n",
    "import numpy as np"
   ]
  },
  {
   "cell_type": "code",
   "execution_count": 5,
   "metadata": {},
   "outputs": [
    {
     "name": "stdout",
     "output_type": "stream",
     "text": [
      "Henze-Zirkler multivariate normality test : False\n"
     ]
    }
   ],
   "source": [
    "# loading the data from the CSV files\n",
    "dfTrain = pd.read_csv(\"./data/train.csv\")\n",
    "dfTest = pd.read_csv(\"./data/test.csv\")\n",
    "\n",
    "# drop id column\n",
    "dfTrain.drop(dfTrain.columns[[0]], axis=1, inplace=True)\n",
    "dfTest.drop(dfTest.columns[[0]], axis=1, inplace=True)\n",
    "\n",
    "# convert to numpy\n",
    "XTrain = dfTrain[dfTrain.columns[1:]].to_numpy()\n",
    "YTrain = dfTrain[dfTrain.columns[0]].to_numpy()\n",
    "\n",
    "# Check if the data follows a multivariate normal distribution\n",
    "HZTest = multivariate_normality(XTrain)\n",
    "print(\"Henze-Zirkler multivariate normality test : {}\".format(HZTest.normal))"
   ]
  },
  {
   "cell_type": "code",
   "execution_count": null,
   "metadata": {},
   "outputs": [],
   "source": []
  }
 ],
 "metadata": {
  "kernelspec": {
   "display_name": "base",
   "language": "python",
   "name": "python3"
  },
  "language_info": {
   "codemirror_mode": {
    "name": "ipython",
    "version": 3
   },
   "file_extension": ".py",
   "mimetype": "text/x-python",
   "name": "python",
   "nbconvert_exporter": "python",
   "pygments_lexer": "ipython3",
   "version": "3.9.5 (default, May 18 2021, 14:42:02) [MSC v.1916 64 bit (AMD64)]"
  },
  "orig_nbformat": 4,
  "vscode": {
   "interpreter": {
    "hash": "4ebca03ed28d4bdb2b83b823b912e255b5d9478816b5a777f9c36aa9107629df"
   }
  }
 },
 "nbformat": 4,
 "nbformat_minor": 2
}
