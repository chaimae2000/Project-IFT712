{
 "cells": [
  {
   "attachments": {},
   "cell_type": "markdown",
   "metadata": {},
   "source": [
    "# Import libs"
   ]
  },
  {
   "cell_type": "code",
   "execution_count": 1,
   "metadata": {},
   "outputs": [],
   "source": [
    "# sklearn libs\n",
    "from sklearn.tree import DecisionTreeClassifier\n",
    "from sklearn.linear_model import Lasso\n",
    "\n",
    "# implemented structure\n",
    "from src.handleData import handleData\n",
    "from src.handleClassifier import handleClassifier"
   ]
  },
  {
   "attachments": {},
   "cell_type": "markdown",
   "metadata": {},
   "source": [
    "# Load data"
   ]
  },
  {
   "cell_type": "code",
   "execution_count": 2,
   "metadata": {},
   "outputs": [],
   "source": [
    "hD = handleData(\"./data/data.csv\")  # construct handleData object\n",
    "df = hD.loadData(\"id\")  # load the data\n",
    "labels = hD.encodeLabels(df, \"species\")  # get labels\n",
    "dfTrain, dfTest = hD.splitData(df, 0.7, \"species\")  # get the training and testing sets"
   ]
  },
  {
   "attachments": {},
   "cell_type": "markdown",
   "metadata": {},
   "source": [
    "# Without any feature trimming"
   ]
  },
  {
   "cell_type": "code",
   "execution_count": 3,
   "metadata": {},
   "outputs": [
    {
     "name": "stdout",
     "output_type": "stream",
     "text": [
      "AdaBoostClassifier, GridSearchCV best score = 0.8932332394953603\n",
      "BaggingClassifier, GridSearchCV best score = 0.86290272130122\n",
      "LinearDiscriminantAnalysis, CV score = 0.9595766864769054\n",
      "QuadraticDiscriminantAnalysis, CV score = 0.030267959545407154\n"
     ]
    }
   ],
   "source": [
    "# The selected classifiers and their config\n",
    "classifierList = [\n",
    "    {\n",
    "        \"name\": \"LinearDiscriminantAnalysis\",\n",
    "        \"preprocess\": False,\n",
    "        \"fitStrategy\": {\n",
    "            \"option\": \"CV\",\n",
    "            \"config\": {\"n_jobs\": -1, \"scoring\": \"accuracy\"},\n",
    "        },\n",
    "    },\n",
    "    {\n",
    "        \"name\": \"QuadraticDiscriminantAnalysis\",\n",
    "        \"preprocess\": False,\n",
    "        \"fitStrategy\": {\n",
    "            \"option\": \"CV\",\n",
    "            \"config\": {\"n_jobs\": -1, \"scoring\": \"accuracy\"},\n",
    "        },\n",
    "    },\n",
    "    {\n",
    "        \"name\": \"LogisticRegression\",\n",
    "        \"preprocess\": True,\n",
    "        \"fitStrategy\": {\n",
    "            \"option\": \"CV\", \n",
    "            \"config\": {\"scoring\": \"accuracy\"}\n",
    "        },\n",
    "    },\n",
    "    {\n",
    "       \"name\": \"SGDClassifier\",\n",
    "       \"preprocess\": True,\n",
    "       \"fitStrategy\": {\n",
    "            \"option\": \"CV\", \n",
    "            \"config\": {\"scoring\": \"accuracy\"}\n",
    "        },\n",
    "        \"loss\":\"log_loss\"\n",
    "    },\n",
    "    {\n",
    "        \"name\": \"AdaBoostClassifier\",\n",
    "        \"preprocess\": False,\n",
    "        \"config\": {\"base_estimator\": DecisionTreeClassifier()},\n",
    "        \"fitStrategy\": {\n",
    "            \"option\": \"GridSearch\",\n",
    "            \"config\": {\n",
    "                \"param_grid\": {\n",
    "                    \"clf__base_estimator__max_depth\": [1, 5, 10],\n",
    "                    \"clf__n_estimators\": [50, 75, 100],\n",
    "                    \"clf__learning_rate\": [0.01, 0.1, 1.0],\n",
    "                },\n",
    "                \"n_jobs\": -1,\n",
    "                \"scoring\": \"accuracy\",\n",
    "            },\n",
    "        },\n",
    "    },\n",
    "    {\n",
    "        \"name\": \"BaggingClassifier\",\n",
    "        \"preprocess\": False,\n",
    "        \"config\": {\"base_estimator\": DecisionTreeClassifier()},\n",
    "        \"fitStrategy\": {\n",
    "            \"option\": \"GridSearch\",\n",
    "            \"config\": {\n",
    "                \"param_grid\": {\n",
    "                    \"clf__base_estimator__max_depth\": [1, 5, 10],\n",
    "                    \"clf__n_estimators\": [50, 75, 100],\n",
    "                    \"clf__max_samples\": [0.25, 0.5, 0.75, 1.0],\n",
    "                    \"clf__max_features\": [0.25, 0.5, 0.75, 1.0],\n",
    "                },\n",
    "                \"n_jobs\": -1,\n",
    "                \"scoring\": \"accuracy\",\n",
    "            },\n",
    "        },\n",
    "    },\n",
    "]\n",
    "\n",
    "hC = handleClassifier()  # construct handleClassifier object\n",
    "clf = hC.fitClassifiers(dfTrain, classifierList)  # fit"
   ]
  },
  {
   "attachments": {},
   "cell_type": "markdown",
   "metadata": {},
   "source": [
    "# With feature reduction (PCA)"
   ]
  },
  {
   "cell_type": "code",
   "execution_count": 4,
   "metadata": {},
   "outputs": [
    {
     "name": "stdout",
     "output_type": "stream",
     "text": [
      "AdaBoostClassifier, GridSearchCV best score = 0.9192263580439995\n",
      "BaggingClassifier, GridSearchCV best score = 0.9292670211656763\n",
      "LinearDiscriminantAnalysis, GridSearchCV best score = 0.9769158586174539\n",
      "QuadraticDiscriminantAnalysis, GridSearchCV best score = 0.22656657282869358\n"
     ]
    }
   ],
   "source": [
    "# change the config for a feature reduction\n",
    "for classifierDict in classifierList:\n",
    "    classifierDict[\"preprocess\"] = True\n",
    "    classifierDict[\"feature\"] = {\"option\": \"reduction\"}\n",
    "    classifierDict[\"fitStrategy\"][\"option\"] = \"GridSearch\"\n",
    "\n",
    "    if not \"param_grid\" in classifierDict[\"fitStrategy\"][\"config\"]:\n",
    "        classifierDict[\"fitStrategy\"][\"config\"][\"param_grid\"] = dict()\n",
    "\n",
    "    classifierDict[\"fitStrategy\"][\"config\"][\"param_grid\"][\"ftr__n_components\"] = [\n",
    "        0.5,\n",
    "        0.75,\n",
    "        0.85,\n",
    "    ]\n",
    "\n",
    "clfReduction = hC.fitClassifiers(dfTrain, classifierList)  # fit"
   ]
  },
  {
   "attachments": {},
   "cell_type": "markdown",
   "metadata": {},
   "source": [
    "# With feature selection (Lasso)"
   ]
  },
  {
   "cell_type": "code",
   "execution_count": 5,
   "metadata": {},
   "outputs": [
    {
     "name": "stdout",
     "output_type": "stream",
     "text": [
      "AdaBoostClassifier, GridSearchCV best score = 0.85858617453863\n",
      "BaggingClassifier, GridSearchCV best score = 0.8961422166614537\n",
      "LinearDiscriminantAnalysis, GridSearchCV best score = 0.9307267229694505\n",
      "QuadraticDiscriminantAnalysis, GridSearchCV best score = 0.03463663851527474\n"
     ]
    }
   ],
   "source": [
    "# change the config for a feature selection\n",
    "for classifierDict in classifierList:\n",
    "    classifierDict[\"feature\"][\"option\"] = \"selection\"\n",
    "    classifierDict[\"feature\"][\"config\"] = {\"estimator\": Lasso()}\n",
    "    del classifierDict[\"fitStrategy\"][\"config\"][\"param_grid\"][\"ftr__n_components\"]\n",
    "    classifierDict[\"fitStrategy\"][\"config\"][\"param_grid\"][\"ftr__estimator__alpha\"] = [\n",
    "        1.0,\n",
    "        2.5,\n",
    "        5.0,\n",
    "    ]\n",
    "\n",
    "clfSelection = hC.fitClassifiers(dfTrain, classifierList)  # fit"
   ]
  },
  {
   "cell_type": "code",
   "execution_count": null,
   "metadata": {},
   "outputs": [],
   "source": []
  }
 ],
 "metadata": {
  "kernelspec": {
   "display_name": "base",
   "language": "python",
   "name": "python3"
  },
  "language_info": {
   "codemirror_mode": {
    "name": "ipython",
    "version": 3
   },
   "file_extension": ".py",
   "mimetype": "text/x-python",
   "name": "python",
   "nbconvert_exporter": "python",
   "pygments_lexer": "ipython3",
   "version": "3.9.12"
  },
  "orig_nbformat": 4,
  "vscode": {
   "interpreter": {
    "hash": "cef0de2d76d729c8feaa7555ecd113c2474cd7dbc7a1bd0f146b27852a2e499f"
   }
  }
 },
 "nbformat": 4,
 "nbformat_minor": 2
}
